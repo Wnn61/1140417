{
  "nbformat": 4,
  "nbformat_minor": 0,
  "metadata": {
    "colab": {
      "provenance": [],
      "include_colab_link": true
    },
    "kernelspec": {
      "name": "python3",
      "display_name": "Python 3"
    },
    "language_info": {
      "name": "python"
    }
  },
  "cells": [
    {
      "cell_type": "markdown",
      "metadata": {
        "id": "view-in-github",
        "colab_type": "text"
      },
      "source": [
        "<a href=\"https://colab.research.google.com/github/Wnn61/1140417/blob/main/%E7%AC%AC%E4%B8%89%E7%B5%84%E4%BD%9C%E6%A5%AD.ipynb\" target=\"_parent\"><img src=\"https://colab.research.google.com/assets/colab-badge.svg\" alt=\"Open In Colab\"/></a>"
      ]
    },
    {
      "cell_type": "markdown",
      "source": [
        " 第四組 412351316王瑋凡 412351495黃緯倫 412351550林彩倫 412351392許又文 412351275黃柏頤 412351445呂沂臻 412351158王靜誼 412351172曾華萱  "
      ],
      "metadata": {
        "id": "pn4KqpbVXeck"
      }
    },
    {
      "cell_type": "code",
      "execution_count": 9,
      "metadata": {
        "colab": {
          "base_uri": "https://localhost:8080/"
        },
        "id": "y8bd9IZWE7dv",
        "outputId": "1f418d2f-4564-4a22-d7a4-a0fa6e514e76"
      },
      "outputs": [
        {
          "output_type": "stream",
          "name": "stdout",
          "text": [
            "Data loaded successfully!\n",
            "\n",
            "Financial_Data head:\n",
            "   CompanyID        Industry         Region  Year  Revenue  ProfitMargin  \\\n",
            "0          1          Retail  Latin America  2025    734.5           5.0   \n",
            "1          2          Retail           Asia  2025   4371.5          -2.4   \n",
            "2          3  Transportation  Latin America  2025    479.8          11.6   \n",
            "3          4      Technology         Africa  2025   7675.6          22.9   \n",
            "4          5         Finance    Middle East  2025   3162.1          22.4   \n",
            "\n",
            "   MarketCap  GrowthRate  ESG_Overall  ESG_Environmental  ESG_Social  \\\n",
            "0      628.8         6.9         59.2               70.7        29.1   \n",
            "1    20376.3        14.4         66.3               65.8        62.8   \n",
            "2     1020.7         9.5         34.3               24.4        43.7   \n",
            "3    42400.4        17.1         64.1              100.0        65.4   \n",
            "4     6674.6        -3.7         48.0               82.1        18.7   \n",
            "\n",
            "   ESG_Governance  CarbonEmissions  WaterUsage  EnergyConsumption  \n",
            "0            78.0          51805.8     25902.9           103611.7  \n",
            "1            70.3         323282.0    161641.0           646564.1  \n",
            "2            34.9         296242.0     49373.7           987473.3  \n",
            "3            27.0         191891.1    115134.7           383782.3  \n",
            "4            43.3          39561.3     19780.6            98903.2  \n",
            "\n",
            "ESG_Score head:\n",
            "   CompanyID  ESG_Overall  ESG_Environmental  ESG_Social  ESG_Governance\n",
            "0          1         59.2               70.7        29.1            78.0\n",
            "1          2         66.3               65.8        62.8            70.3\n",
            "2          3         34.3               24.4        43.7            34.9\n",
            "3          4         64.1              100.0        65.4            27.0\n",
            "4          5         48.0               82.1        18.7            43.3\n",
            "\n",
            "OTHERS head:\n",
            "   CompanyID  CarbonEmissions  WaterUsage  EnergyConsumption\n",
            "0          1          51805.8     25902.9           103611.7\n",
            "1          2         323282.0    161641.0           646564.1\n",
            "2          3         296242.0     49373.7           987473.3\n",
            "3          4         191891.1    115134.7           383782.3\n",
            "4          5          39561.3     19780.6            98903.2\n"
          ]
        }
      ],
      "source": [
        "# 第一題\n",
        "import pandas as pd\n",
        "\n",
        "# The ID of the Google Sheet\n",
        "ID = \"1k9Rn5Im6s1b5t4NfRG1lHYm5qj1U_jUz\"\n",
        "\n",
        "# Construct the URL for exporting the spreadsheet as an XLSX file\n",
        "Filename = f\"https://docs.google.com/spreadsheets/d/{ID}/export?format=xlsx\"\n",
        "\n",
        "# Read the sheets into pandas DataFrames\n",
        "try:\n",
        "    Financial_Data = pd.read_excel(Filename, sheet_name=\"Financial_Data\")\n",
        "    ESG_Score = pd.read_excel(Filename, sheet_name=\"ESG_Score\")\n",
        "    OTHERS = pd.read_excel(Filename, sheet_name=\"OTHERS\")\n",
        "\n",
        "    print(\"Data loaded successfully!\")\n",
        "    print(\"\\nFinancial_Data head:\")\n",
        "    print(Financial_Data.head())\n",
        "    print(\"\\nESG_Score head:\")\n",
        "    print(ESG_Score.head())\n",
        "    print(\"\\nOTHERS head:\")\n",
        "    print(OTHERS.head())\n",
        "\n",
        "except Exception as e:\n",
        "    print(f\"Error loading data: {e}\")\n",
        "    print(\"Please ensure the Google Sheet is publicly accessible or shared with 'Anyone with the link'.\")\n",
        "    print(f\"Attempted to access: {Filename}\")\n",
        "\n"
      ]
    },
    {
      "cell_type": "code",
      "source": [
        "# 第二題\n",
        "Company_ESG = pd.merge(Financial_Data, ESG_Score, on='CompanyID', how='inner')\n",
        "Company_ESG = pd.merge(Company_ESG, OTHERS, on='CompanyID', how='inner')\n",
        "\n"
      ],
      "metadata": {
        "id": "W1aR-QzlGm87"
      },
      "execution_count": 10,
      "outputs": []
    },
    {
      "cell_type": "code",
      "source": [
        "# 第三題\n",
        "Company_ESG.to_csv(\"Company_ESG_cleaned.csv\", index=False)\n",
        "Company_ESG.to_excel(\"Company_ESG_cleaned.xlsx\", index=False)\n",
        "\n"
      ],
      "metadata": {
        "id": "PRvKFllcfzKb"
      },
      "execution_count": 11,
      "outputs": []
    },
    {
      "cell_type": "code",
      "source": [
        "# 第四題\n",
        "Company_ESG.drop('Year', axis=1, inplace=True)"
      ],
      "metadata": {
        "id": "2h47FUYUhWxu"
      },
      "execution_count": 12,
      "outputs": []
    },
    {
      "cell_type": "code",
      "source": [
        "# 第五題\n",
        "Company_ESG.rename(columns={'CompanyID': 'ID','CarbonEmissions': 'CO2排放量'}, inplace=True)\n",
        "Company_ESG.set_index('ID', inplace=True)"
      ],
      "metadata": {
        "id": "NwoopaGShW2l"
      },
      "execution_count": null,
      "outputs": []
    },
    {
      "cell_type": "code",
      "source": [
        "# 第六題\n",
        "Company_ESG = Company_ESG.sort_values(by='ESG_Overall', ascending=False)"
      ],
      "metadata": {
        "id": "1gJ1qw-LhW7h"
      },
      "execution_count": null,
      "outputs": []
    },
    {
      "cell_type": "code",
      "source": [
        "# 第七題\n",
        "for score in Company_ESG['ESG_Overall']:\n",
        "    if score < 60:\n",
        "        New_Group.append('小於60分')\n",
        "    elif score < 80:\n",
        "        New_Group.append('60-80分')\n",
        "    else:\n",
        "        New_Group.append('80分以上')\n",
        "Company_ESG['ESG成績分組'] = New_Group"
      ],
      "metadata": {
        "id": "mdg_x4Jol3MK"
      },
      "execution_count": null,
      "outputs": []
    },
    {
      "cell_type": "code",
      "source": [
        "# 第八題\n",
        "ESG_NumericData = filtered_df[['ESG_Overall','ESG_Environmental','ESG_Social','ESG_Governance','CO2排放量','WaterUsage','EnergyConsumption'"
      ],
      "metadata": {
        "id": "sy_8X9nMl3RK"
      },
      "execution_count": null,
      "outputs": []
    },
    {
      "cell_type": "code",
      "source": [
        "# 第九題\n",
        "mean_values = ESG_NumericData.mean()\n",
        "std_values = ESG_NumericData.std()\n",
        "median_energy = ESG_NumericData['EnergyConsumption'].median()\n",
        "cv_values = std_values / mean_values\n",
        "cv_matrix = pd.DataFrame({\n",
        "    'Mean': mean_values,\n",
        "    'Std': std_values,\n",
        "    'CV': cv_values\n"
      ],
      "metadata": {
        "id": "vhZvSqzBl3YY"
      },
      "execution_count": null,
      "outputs": []
    },
    {
      "cell_type": "code",
      "source": [
        "# 第十題\n",
        "group_summary = Company_ESG.groupby('ESG成績分組').agg(['count', 'max', 'min'])\n"
      ],
      "metadata": {
        "id": "RC8UUi59n5lo"
      },
      "execution_count": null,
      "outputs": []
    },
    {
      "cell_type": "code",
      "source": [
        "# 第十一題\n",
        "#直方圖\n",
        "plt.figure(figsize=(8, 5))\n",
        "sns.histplot(Company_ESG['ESG_Environmental'], bins=20, kde=True, color='skyblue')\n",
        "plt.title('ESG_Environmental 直方圖')\n",
        "plt.xlabel('ESG_Environmental')\n",
        "plt.ylabel('頻數')\n",
        "plt.grid(True)\n",
        "plt.tight_layout()\n",
        "plt.show()\n",
        "#盒形圖\n",
        "plt.figure(figsize=(12, 6))\n",
        "sns.boxplot(data=Company_ESG, x='Industry', y='ESG_Overall')\n",
        "plt.title('各產業的 ESG_Overall 盒形圖')\n",
        "plt.xlabel('Industry')\n",
        "plt.ylabel('ESG_Overall')\n",
        "plt.xticks(rotation=45)\n",
        "plt.tight_layout()\n",
        "plt.show()\n",
        "#圓餅圖\n",
        "group_counts = Company_ESG['ESG成績分組'].value_counts()\n",
        "plt.figure(figsize=(6, 6))\n",
        "plt.pie(group_counts, labels=group_counts.index, autopct='%1.1f%%', startangle=140)\n",
        "plt.title('ESG成績分組分布（圓餅圖）')\n",
        "plt.axis('equal')\n",
        "plt.tight_layout()\n",
        "plt.show()\n",
        "#散佈圖\n",
        "plt.figure(figsize=(8, 6))\n",
        "sns.scatterplot(data=Company_ESG, x='Revenue', y='EnergyConsumption')\n",
        "plt.title('Revenue vs. EnergyConsumption 散佈圖')\n",
        "plt.xlabel('Revenue')\n",
        "plt.ylabel('EnergyConsumption')\n",
        "plt.grid(True)\n",
        "plt.tight_layout()\n",
        "plt.show()\n",
        "\n"
      ],
      "metadata": {
        "id": "YQ090qdin5oN",
        "colab": {
          "base_uri": "https://localhost:8080/",
          "height": 211
        },
        "outputId": "0e6e2665-3924-45dd-8e27-c5b580060357"
      },
      "execution_count": 1,
      "outputs": [
        {
          "output_type": "error",
          "ename": "NameError",
          "evalue": "name 'plt' is not defined",
          "traceback": [
            "\u001b[0;31m---------------------------------------------------------------------------\u001b[0m",
            "\u001b[0;31mNameError\u001b[0m                                 Traceback (most recent call last)",
            "\u001b[0;32m<ipython-input-1-6c12906e969a>\u001b[0m in \u001b[0;36m<cell line: 0>\u001b[0;34m()\u001b[0m\n\u001b[1;32m      1\u001b[0m \u001b[0;31m## 第十一題\u001b[0m\u001b[0;34m\u001b[0m\u001b[0;34m\u001b[0m\u001b[0m\n\u001b[1;32m      2\u001b[0m \u001b[0;31m#直方圖\u001b[0m\u001b[0;34m\u001b[0m\u001b[0;34m\u001b[0m\u001b[0m\n\u001b[0;32m----> 3\u001b[0;31m \u001b[0mplt\u001b[0m\u001b[0;34m.\u001b[0m\u001b[0mfigure\u001b[0m\u001b[0;34m(\u001b[0m\u001b[0mfigsize\u001b[0m\u001b[0;34m=\u001b[0m\u001b[0;34m(\u001b[0m\u001b[0;36m8\u001b[0m\u001b[0;34m,\u001b[0m \u001b[0;36m5\u001b[0m\u001b[0;34m)\u001b[0m\u001b[0;34m)\u001b[0m\u001b[0;34m\u001b[0m\u001b[0;34m\u001b[0m\u001b[0m\n\u001b[0m\u001b[1;32m      4\u001b[0m \u001b[0msns\u001b[0m\u001b[0;34m.\u001b[0m\u001b[0mhistplot\u001b[0m\u001b[0;34m(\u001b[0m\u001b[0mCompany_ESG\u001b[0m\u001b[0;34m[\u001b[0m\u001b[0;34m'ESG_Environmental'\u001b[0m\u001b[0;34m]\u001b[0m\u001b[0;34m,\u001b[0m \u001b[0mbins\u001b[0m\u001b[0;34m=\u001b[0m\u001b[0;36m20\u001b[0m\u001b[0;34m,\u001b[0m \u001b[0mkde\u001b[0m\u001b[0;34m=\u001b[0m\u001b[0;32mTrue\u001b[0m\u001b[0;34m,\u001b[0m \u001b[0mcolor\u001b[0m\u001b[0;34m=\u001b[0m\u001b[0;34m'skyblue'\u001b[0m\u001b[0;34m)\u001b[0m\u001b[0;34m\u001b[0m\u001b[0;34m\u001b[0m\u001b[0m\n\u001b[1;32m      5\u001b[0m \u001b[0mplt\u001b[0m\u001b[0;34m.\u001b[0m\u001b[0mtitle\u001b[0m\u001b[0;34m(\u001b[0m\u001b[0;34m'ESG_Environmental 直方圖'\u001b[0m\u001b[0;34m)\u001b[0m\u001b[0;34m\u001b[0m\u001b[0;34m\u001b[0m\u001b[0m\n",
            "\u001b[0;31mNameError\u001b[0m: name 'plt' is not defined"
          ]
        }
      ]
    }
  ]
}